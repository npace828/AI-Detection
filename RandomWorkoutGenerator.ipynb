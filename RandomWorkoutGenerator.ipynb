{
  "nbformat": 4,
  "nbformat_minor": 0,
  "metadata": {
    "colab": {
      "provenance": [],
      "authorship_tag": "ABX9TyOAvsSia37chSicFGVvhoYE",
      "include_colab_link": true
    },
    "kernelspec": {
      "name": "python3",
      "display_name": "Python 3"
    },
    "language_info": {
      "name": "python"
    }
  },
  "cells": [
    {
      "cell_type": "markdown",
      "metadata": {
        "id": "view-in-github",
        "colab_type": "text"
      },
      "source": [
        "<a href=\"https://colab.research.google.com/github/npace828/AI-Detection/blob/main/RandomWorkoutGenerator.ipynb\" target=\"_parent\"><img src=\"https://colab.research.google.com/assets/colab-badge.svg\" alt=\"Open In Colab\"/></a>"
      ]
    },
    {
      "cell_type": "code",
      "execution_count": 9,
      "metadata": {
        "colab": {
          "base_uri": "https://localhost:8080/"
        },
        "id": "69p-b2-a6iiJ",
        "outputId": "d4eec6fa-1577-4ef0-9e1a-b2f59cae9246"
      },
      "outputs": [
        {
          "output_type": "stream",
          "name": "stdout",
          "text": [
            "Enter the type of workout (cardio, weightlifting, HIIT): hiit\n",
            "Enter the number of rounds: 3\n",
            "\n",
            "Your workout routine:\n",
            "\n",
            "Round 1: Mountain Climbers, Sprint Intervals, Box Jumps, Battle Ropes, Plank Jacks, Jump Squats\n",
            "Round 2: Sprint Intervals, Battle Ropes, Box Jumps, Plank Jacks, Jump Squats, Mountain Climbers\n",
            "Round 3: Plank Jacks, Battle Ropes, Mountain Climbers, Jump Squats, Box Jumps, Sprint Intervals\n"
          ]
        }
      ],
      "source": [
        "import random\n",
        "\n",
        "# Define workout options for each type of workout\n",
        "workouts = {\n",
        "    \"cardio\": [\"Running\", \"Jumping Jacks\", \"Burpees\", \"Cycling\", \"Jump Rope\", \"High Knees\"],\n",
        "    \"weightlifting\": [\"Squats\", \"Deadlifts\", \"Bench Press\", \"Overhead Press\", \"Rows\", \"Pull-ups\"],\n",
        "    \"hiit\": [\"Mountain Climbers\", \"Sprint Intervals\", \"Box Jumps\", \"Plank Jacks\", \"Battle Ropes\", \"Jump Squats\"]\n",
        "}\n",
        "\n",
        "def generate_workout(workout_type, rounds):\n",
        "    workout_options = workouts.get(workout_type.lower())\n",
        "    if not workout_options:\n",
        "        return \"Invalid workout type. Please choose from 'cardio', 'weightlifting', or 'HIIT'.\"\n",
        "\n",
        "    workout_routine = []\n",
        "    for i in range(rounds):\n",
        "        random.shuffle(workout_options)  # Randomize workout order for each round\n",
        "        workout_routine.append(f\"Round {i+1}: {', '.join(workout_options)}\")\n",
        "\n",
        "    return \"\\n\".join(workout_routine)\n",
        "\n",
        "if __name__ == \"__main__\":\n",
        "    workout_type = input(\"Enter the type of workout (cardio, weightlifting, HIIT): \")\n",
        "    rounds = int(input(\"Enter the number of rounds: \"))\n",
        "\n",
        "    workout_routine = generate_workout(workout_type, rounds)\n",
        "    print(\"\\nYour workout routine:\\n\")\n",
        "    print(workout_routine)\n"
      ]
    }
  ]
}